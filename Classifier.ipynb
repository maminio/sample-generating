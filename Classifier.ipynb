{
 "cells": [
  {
   "cell_type": "code",
   "execution_count": 12,
   "metadata": {},
   "outputs": [
    {
     "name": "stdout",
     "output_type": "stream",
     "text": [
      "The tensorboard extension is already loaded. To reload it, use:\n",
      "  %reload_ext tensorboard\n"
     ]
    }
   ],
   "source": [
    "# Python ≥3.5 is required\n",
    "import sys\n",
    "assert sys.version_info >= (3, 5)\n",
    "import pathlib\n",
    "from datetime import datetime\n",
    "from tensorflow import keras\n",
    "logdir = \"logs/scalars/\" + \"Pure_Classifer\" + datetime.now().strftime(\"%Y%m%d-%H%M%S\")\n",
    "tensorboard_callback = keras.callbacks.TensorBoard(log_dir=logdir)\n",
    "from tensorflow.keras.models import Sequential\n",
    "\n",
    "from tensorflow.keras.layers import Dense, Conv2D, MaxPool2D , Flatten\n",
    "\n",
    "# Scikit-Learn ≥0.20 is required\n",
    "import sklearn\n",
    "assert sklearn.__version__ >= \"0.20\"\n",
    "from tensorflow.keras.preprocessing.image import ImageDataGenerator \n",
    "from sklearn.model_selection import train_test_split\n",
    "\n",
    "try:\n",
    "    # %tensorflow_version only exists in Colab.\n",
    "    %tensorflow_version 2.x\n",
    "except Exception:\n",
    "    pass\n",
    "\n",
    "# TensorFlow ≥2.0 is required\n",
    "import tensorflow as tf\n",
    "from tensorflow import keras\n",
    "assert tf.__version__ >= \"2.0\"\n",
    "\n",
    "%load_ext tensorboard\n",
    "\n",
    "# Common imports\n",
    "import numpy as np\n",
    "import os\n",
    "\n",
    "# to make this notebook's output stable across runs\n",
    "np.random.seed(42)\n",
    "\n",
    "# To plot pretty figures\n",
    "%matplotlib inline\n",
    "import matplotlib as mpl\n",
    "import matplotlib.pyplot as plt\n",
    "mpl.rc('axes', labelsize=14)\n",
    "mpl.rc('xtick', labelsize=12)\n",
    "mpl.rc('ytick', labelsize=12)\n",
    "\n",
    "# Where to save the figures\n",
    "PROJECT_ROOT_DIR = \".\"\n",
    "CHAPTER_ID = \"deep\"\n",
    "IMAGES_PATH = os.path.join(PROJECT_ROOT_DIR, \"images\", CHAPTER_ID)\n",
    "os.makedirs(IMAGES_PATH, exist_ok=True)\n",
    "\n",
    "def save_fig(fig_id, tight_layout=True, fig_extension=\"png\", resolution=300):\n",
    "    path = os.path.join(IMAGES_PATH, fig_id + \".\" + fig_extension)\n",
    "    print(\"Saving figure\", fig_id)\n",
    "    if tight_layout:\n",
    "        plt.tight_layout()\n",
    "    plt.savefig(path, format=fig_extension, dpi=resolution)\n",
    "\n",
    "def plot_image(image):\n",
    "    plt.imshow(image, cmap=\"gray\", interpolation=\"nearest\")\n",
    "    plt.axis(\"off\")\n",
    "\n",
    "def plot_color_image(image):\n",
    "    plt.imshow(image, interpolation=\"nearest\")\n",
    "    plt.axis(\"off\")"
   ]
  },
  {
   "cell_type": "code",
   "execution_count": 3,
   "metadata": {},
   "outputs": [],
   "source": [
    "\n",
    "gpus = tf.config.experimental.list_physical_devices('GPU')\n",
    "tf.config.experimental.set_memory_growth(gpus[0], True)\n"
   ]
  },
  {
   "cell_type": "code",
   "execution_count": 4,
   "metadata": {},
   "outputs": [
    {
     "name": "stdout",
     "output_type": "stream",
     "text": [
      "Name: /physical_device:GPU:0   Type: GPU\n"
     ]
    }
   ],
   "source": [
    "gpus = tf.config.experimental.list_physical_devices('GPU')\n",
    "for gpu in gpus:\n",
    "    print(\"Name:\", gpu.name, \"  Type:\", gpu.device_type)"
   ]
  },
  {
   "cell_type": "code",
   "execution_count": 5,
   "metadata": {},
   "outputs": [
    {
     "name": "stdout",
     "output_type": "stream",
     "text": [
      "Found 2401 images belonging to 5 classes.\n",
      "Found 600 images belonging to 5 classes.\n"
     ]
    }
   ],
   "source": [
    "datagen = ImageDataGenerator(rescale=1./255, validation_split=0.2)\n",
    "train_data_dir = \"./Dataset\"\n",
    "img_height=224\n",
    "img_width=224\n",
    "batch_size=1\n",
    "train_generator = datagen.flow_from_directory(\n",
    "    train_data_dir,\n",
    "    target_size=(img_height, img_width),\n",
    "    batch_size=2401,\n",
    "    class_mode='categorical',\n",
    "    subset='training',\n",
    "    seed=42\n",
    ")\n",
    "\n",
    "validation_generator = datagen.flow_from_directory(\n",
    "    train_data_dir,\n",
    "    target_size=(img_height, img_width),\n",
    "    batch_size=600,\n",
    "    class_mode='categorical',\n",
    "    subset='validation',\n",
    "    seed=42\n",
    ")"
   ]
  },
  {
   "cell_type": "code",
   "execution_count": 6,
   "metadata": {},
   "outputs": [],
   "source": [
    "x, y = train_generator.next()\n",
    "x_val, y_val = validation_generator.next()"
   ]
  },
  {
   "cell_type": "code",
   "execution_count": 7,
   "metadata": {},
   "outputs": [],
   "source": [
    "x_train, x_test, y_train, y_test = train_test_split(x, y, test_size=0.2, random_state=42)"
   ]
  },
  {
   "cell_type": "code",
   "execution_count": 13,
   "metadata": {},
   "outputs": [],
   "source": [
    "\n",
    "model = Sequential()\n",
    "model.add(Conv2D(input_shape=(224,224,3),filters=64,kernel_size=(3,3),padding=\"same\", activation=\"relu\"))\n",
    "model.add(Conv2D(filters=64,kernel_size=(3,3),padding=\"same\", activation=\"relu\"))\n",
    "model.add(MaxPool2D(pool_size=(2,2),strides=(2,2)))\n",
    "model.add(Conv2D(filters=128, kernel_size=(3,3), padding=\"same\", activation=\"relu\"))\n",
    "model.add(Conv2D(filters=128, kernel_size=(3,3), padding=\"same\", activation=\"relu\"))\n",
    "model.add(MaxPool2D(pool_size=(2,2),strides=(2,2)))\n",
    "model.add(Conv2D(filters=256, kernel_size=(3,3), padding=\"same\", activation=\"relu\"))\n",
    "model.add(Conv2D(filters=256, kernel_size=(3,3), padding=\"same\", activation=\"relu\"))\n",
    "model.add(Conv2D(filters=256, kernel_size=(3,3), padding=\"same\", activation=\"relu\"))\n",
    "model.add(MaxPool2D(pool_size=(2,2),strides=(2,2)))\n",
    "model.add(Conv2D(filters=512, kernel_size=(3,3), padding=\"same\", activation=\"relu\"))\n",
    "model.add(Conv2D(filters=512, kernel_size=(3,3), padding=\"same\", activation=\"relu\"))\n",
    "model.add(Conv2D(filters=512, kernel_size=(3,3), padding=\"same\", activation=\"relu\"))\n",
    "model.add(MaxPool2D(pool_size=(2,2),strides=(2,2)))\n",
    "model.add(Conv2D(filters=512, kernel_size=(3,3), padding=\"same\", activation=\"relu\"))\n",
    "model.add(Conv2D(filters=512, kernel_size=(3,3), padding=\"same\", activation=\"relu\"))\n",
    "model.add(Conv2D(filters=512, kernel_size=(3,3), padding=\"same\", activation=\"relu\"))\n",
    "model.add(MaxPool2D(pool_size=(2,2),strides=(2,2)))\n",
    "model.add(Flatten())\n",
    "model.add(Dense(units=4096,activation=\"relu\"))\n",
    "model.add(Dense(units=4096,activation=\"relu\"))\n",
    "model.add(Dense(units=5, activation=\"softmax\"))"
   ]
  },
  {
   "cell_type": "code",
   "execution_count": 14,
   "metadata": {},
   "outputs": [],
   "source": [
    "from tensorflow.keras.optimizers import Adam\n",
    "opt = keras.optimizers.RMSprop(learning_rate=0.0001, decay=1e-6)\n",
    "\n",
    "model.compile(optimizer=opt, loss=keras.losses.categorical_crossentropy, metrics=['accuracy'])\n"
   ]
  },
  {
   "cell_type": "code",
   "execution_count": 16,
   "metadata": {},
   "outputs": [
    {
     "name": "stdout",
     "output_type": "stream",
     "text": [
      "Train on 1920 samples, validate on 600 samples\n",
      "Epoch 1/40\n",
      "1920/1920 [==============================] - 12s 6ms/sample - loss: 1.6347 - accuracy: 0.2052 - val_loss: 1.6104 - val_accuracy: 0.2000\n",
      "Epoch 2/40\n",
      "1920/1920 [==============================] - 10s 5ms/sample - loss: 1.6131 - accuracy: 0.2823 - val_loss: 1.4035 - val_accuracy: 0.3817\n",
      "Epoch 3/40\n",
      "1920/1920 [==============================] - 10s 5ms/sample - loss: 1.5098 - accuracy: 0.3719 - val_loss: 1.4198 - val_accuracy: 0.4617\n",
      "Epoch 4/40\n",
      "1920/1920 [==============================] - 10s 5ms/sample - loss: 1.2952 - accuracy: 0.4719 - val_loss: 1.2911 - val_accuracy: 0.4583\n",
      "Epoch 5/40\n",
      "1920/1920 [==============================] - 10s 5ms/sample - loss: 1.1714 - accuracy: 0.5453 - val_loss: 1.0709 - val_accuracy: 0.6067\n",
      "Epoch 6/40\n",
      "1920/1920 [==============================] - 10s 5ms/sample - loss: 1.0388 - accuracy: 0.5922 - val_loss: 1.0845 - val_accuracy: 0.5250\n",
      "Epoch 7/40\n",
      "1920/1920 [==============================] - 10s 5ms/sample - loss: 0.9957 - accuracy: 0.6208 - val_loss: 0.9782 - val_accuracy: 0.5917\n",
      "Epoch 8/40\n",
      "1920/1920 [==============================] - 10s 5ms/sample - loss: 0.9264 - accuracy: 0.6313 - val_loss: 0.9831 - val_accuracy: 0.5983\n",
      "Epoch 9/40\n",
      "1920/1920 [==============================] - 10s 5ms/sample - loss: 0.8608 - accuracy: 0.6661 - val_loss: 0.9423 - val_accuracy: 0.6533\n",
      "Epoch 10/40\n",
      "1920/1920 [==============================] - 10s 5ms/sample - loss: 0.8023 - accuracy: 0.6849 - val_loss: 1.0375 - val_accuracy: 0.6617\n",
      "Epoch 11/40\n",
      "1920/1920 [==============================] - 10s 5ms/sample - loss: 0.7426 - accuracy: 0.7224 - val_loss: 0.9222 - val_accuracy: 0.7050\n",
      "Epoch 12/40\n",
      "1920/1920 [==============================] - 10s 5ms/sample - loss: 0.6735 - accuracy: 0.7458 - val_loss: 0.8677 - val_accuracy: 0.6983\n",
      "Epoch 13/40\n",
      "1920/1920 [==============================] - 10s 5ms/sample - loss: 0.6074 - accuracy: 0.7625 - val_loss: 0.8116 - val_accuracy: 0.7067\n",
      "Epoch 14/40\n",
      "1920/1920 [==============================] - 10s 5ms/sample - loss: 0.5538 - accuracy: 0.7885 - val_loss: 1.0753 - val_accuracy: 0.7117\n",
      "Epoch 15/40\n",
      "1920/1920 [==============================] - 10s 5ms/sample - loss: 0.4469 - accuracy: 0.8401 - val_loss: 1.0079 - val_accuracy: 0.6700\n",
      "Epoch 16/40\n",
      "1920/1920 [==============================] - 10s 5ms/sample - loss: 0.4120 - accuracy: 0.8547 - val_loss: 1.9454 - val_accuracy: 0.6350\n",
      "Epoch 17/40\n",
      "1920/1920 [==============================] - 10s 5ms/sample - loss: 0.2891 - accuracy: 0.8974 - val_loss: 1.2378 - val_accuracy: 0.6733\n",
      "Epoch 18/40\n",
      "1920/1920 [==============================] - 10s 5ms/sample - loss: 0.2998 - accuracy: 0.9052 - val_loss: 1.3100 - val_accuracy: 0.6833\n",
      "Epoch 19/40\n",
      "1920/1920 [==============================] - 10s 5ms/sample - loss: 0.1926 - accuracy: 0.9422 - val_loss: 1.4114 - val_accuracy: 0.6933\n",
      "Epoch 20/40\n",
      "1920/1920 [==============================] - 10s 5ms/sample - loss: 0.1570 - accuracy: 0.9547 - val_loss: 1.8295 - val_accuracy: 0.6933\n",
      "Epoch 21/40\n",
      "1920/1920 [==============================] - 10s 5ms/sample - loss: 0.1568 - accuracy: 0.9500 - val_loss: 1.9122 - val_accuracy: 0.7000\n",
      "Epoch 22/40\n",
      "1920/1920 [==============================] - 10s 5ms/sample - loss: 0.1730 - accuracy: 0.9599 - val_loss: 2.1573 - val_accuracy: 0.6883\n",
      "Epoch 23/40\n",
      "1920/1920 [==============================] - 10s 5ms/sample - loss: 0.1830 - accuracy: 0.9802 - val_loss: 2.0250 - val_accuracy: 0.6983\n",
      "Epoch 24/40\n",
      "1920/1920 [==============================] - 10s 5ms/sample - loss: 0.1611 - accuracy: 0.9635 - val_loss: 2.4227 - val_accuracy: 0.6150\n",
      "Epoch 25/40\n",
      "1920/1920 [==============================] - 10s 5ms/sample - loss: 0.1354 - accuracy: 0.9740 - val_loss: 1.9967 - val_accuracy: 0.6883\n",
      "Epoch 26/40\n",
      "1920/1920 [==============================] - 10s 5ms/sample - loss: 0.1179 - accuracy: 0.9688 - val_loss: 1.7685 - val_accuracy: 0.6917\n",
      "Epoch 27/40\n",
      "1920/1920 [==============================] - 10s 5ms/sample - loss: 0.1045 - accuracy: 0.9760 - val_loss: 2.0004 - val_accuracy: 0.6817\n",
      "Epoch 28/40\n",
      "1920/1920 [==============================] - 10s 5ms/sample - loss: 0.1297 - accuracy: 0.9766 - val_loss: 1.7885 - val_accuracy: 0.5933\n",
      "Epoch 29/40\n",
      "1920/1920 [==============================] - 10s 5ms/sample - loss: 0.1110 - accuracy: 0.9698 - val_loss: 2.0422 - val_accuracy: 0.6683\n",
      "Epoch 30/40\n",
      "1920/1920 [==============================] - 10s 5ms/sample - loss: 0.1404 - accuracy: 0.9740 - val_loss: 1.3514 - val_accuracy: 0.6733\n",
      "Epoch 31/40\n",
      "1920/1920 [==============================] - 10s 5ms/sample - loss: 0.0578 - accuracy: 0.9833 - val_loss: 2.5874 - val_accuracy: 0.6933\n",
      "Epoch 32/40\n",
      "1920/1920 [==============================] - 10s 5ms/sample - loss: 0.1206 - accuracy: 0.9750 - val_loss: 2.7171 - val_accuracy: 0.6783\n",
      "Epoch 33/40\n",
      "1920/1920 [==============================] - 10s 5ms/sample - loss: 0.2370 - accuracy: 0.9599 - val_loss: 1.2083 - val_accuracy: 0.6950\n",
      "Epoch 34/40\n",
      "1920/1920 [==============================] - 10s 5ms/sample - loss: 0.0644 - accuracy: 0.9818 - val_loss: 1.5665 - val_accuracy: 0.6750\n",
      "Epoch 35/40\n",
      "1920/1920 [==============================] - 10s 5ms/sample - loss: 0.0657 - accuracy: 0.9859 - val_loss: 2.3533 - val_accuracy: 0.6883\n",
      "Epoch 36/40\n",
      "1920/1920 [==============================] - 10s 5ms/sample - loss: 0.1018 - accuracy: 0.9844 - val_loss: 1.2781 - val_accuracy: 0.6100\n",
      "Epoch 37/40\n",
      "1920/1920 [==============================] - 10s 5ms/sample - loss: 0.0194 - accuracy: 0.9958 - val_loss: 3.6317 - val_accuracy: 0.6700\n",
      "Epoch 38/40\n",
      "1920/1920 [==============================] - 10s 5ms/sample - loss: 0.1184 - accuracy: 0.9766 - val_loss: 2.1694 - val_accuracy: 0.6900\n",
      "Epoch 39/40\n",
      "1920/1920 [==============================] - 10s 5ms/sample - loss: 2.4456e-04 - accuracy: 1.0000 - val_loss: 3.1186 - val_accuracy: 0.6950\n",
      "Epoch 40/40\n",
      "1920/1920 [==============================] - 10s 5ms/sample - loss: 2.6220e-06 - accuracy: 1.0000 - val_loss: 3.7877 - val_accuracy: 0.7000\n"
     ]
    },
    {
     "data": {
      "text/plain": [
       "<tensorflow.python.keras.callbacks.History at 0x7fca7860d3c8>"
      ]
     },
     "execution_count": 16,
     "metadata": {},
     "output_type": "execute_result"
    }
   ],
   "source": [
    "model.fit(x_train, y_train,\n",
    "          batch_size=32,\n",
    "          epochs=40,\n",
    "          validation_data=(x_val, y_val),\n",
    "          shuffle=True,\n",
    "          callbacks=[tensorboard_callback]\n",
    "         )"
   ]
  },
  {
   "cell_type": "markdown",
   "metadata": {},
   "source": [
    "# "
   ]
  }
 ],
 "metadata": {
  "kernelspec": {
   "display_name": "Python [conda env:singan] *",
   "language": "python",
   "name": "conda-env-singan-py"
  },
  "language_info": {
   "codemirror_mode": {
    "name": "ipython",
    "version": 3
   },
   "file_extension": ".py",
   "mimetype": "text/x-python",
   "name": "python",
   "nbconvert_exporter": "python",
   "pygments_lexer": "ipython3",
   "version": "3.7.3"
  }
 },
 "nbformat": 4,
 "nbformat_minor": 2
}
